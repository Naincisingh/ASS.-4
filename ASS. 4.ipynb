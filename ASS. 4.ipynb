{
 "cells": [
  {
   "cell_type": "code",
   "execution_count": 8,
   "id": "e3f0636b-4a56-4e68-a53c-9e6d6604e40c",
   "metadata": {},
   "outputs": [],
   "source": [
    "\"\"\"QTS. 1\"\"\"\n",
    "\"\"\" class is a blueprint or skeleton that help in module classification \n",
    "    while object ia a real world entity\"\"\"\n",
    "\n",
    "\"\"\"example of class and object\"\"\"\n",
    "class maxx:\n",
    "    a,b=2,24\n",
    "    def test():\n",
    "        if a>b:\n",
    "            print(a)\n",
    "        else:\n",
    "            print(b)\n",
    "        \n",
    "max=maxx()"
   ]
  },
  {
   "cell_type": "code",
   "execution_count": 9,
   "id": "dd695c8f-d5b9-43c2-9dab-20b59d16b8a0",
   "metadata": {},
   "outputs": [
    {
     "name": "stdout",
     "output_type": "stream",
     "text": [
      "<class '__main__.maxx'>\n"
     ]
    }
   ],
   "source": [
    "print(type(max))"
   ]
  },
  {
   "cell_type": "code",
   "execution_count": 11,
   "id": "d6e72e1b-19dc-433e-9025-ec51ca8137d1",
   "metadata": {},
   "outputs": [
    {
     "name": "stdout",
     "output_type": "stream",
     "text": [
      "<__main__.maxx object at 0x7f2840188100>\n"
     ]
    }
   ],
   "source": [
    "print(max)"
   ]
  },
  {
   "cell_type": "code",
   "execution_count": 13,
   "id": "bc14f504-05c1-4dac-ad0a-52bdd1575fa1",
   "metadata": {},
   "outputs": [
    {
     "data": {
      "text/plain": [
       "'1.polymorphism\\n   2.encapsulation\\n   3.inheritance\\n   4.abstraction'"
      ]
     },
     "execution_count": 13,
     "metadata": {},
     "output_type": "execute_result"
    }
   ],
   "source": [
    "\"\"\"QTS .2\"\"\"\n",
    "\n",
    "\"\"\"four pillar of OOP's\"\"\"\n",
    "\"\"\"1.polymorphism\n",
    "   2.encapsulation\n",
    "   3.inheritance\n",
    "   4.abstraction\"\"\""
   ]
  },
  {
   "cell_type": "code",
   "execution_count": 40,
   "id": "58351a8e-83c2-4748-97b6-219dcc1bf1a2",
   "metadata": {},
   "outputs": [],
   "source": [
    "\"\"\"QTS .3\"\"\"\n",
    "\"\"\"__init()__ function is used to intialize data from user\"\"\"\n",
    "\n",
    "\"\"\"example\"\"\"\n",
    "class add:\n",
    "    c=0\n",
    "    def __init__(self,num1,num2):\n",
    "        self.numa=num1\n",
    "        self.numb=num2\n",
    "         \n",
    "    def ad(self):\n",
    "            c=self.numa + self.numb\n",
    "            print(c)\n",
    "        "
   ]
  },
  {
   "cell_type": "code",
   "execution_count": 41,
   "id": "843be0f2-1ee6-474b-a446-269bc8a47380",
   "metadata": {},
   "outputs": [
    {
     "name": "stdout",
     "output_type": "stream",
     "text": [
      "69\n"
     ]
    }
   ],
   "source": [
    "nain=add(24,45)\n",
    "nain.ad()"
   ]
  },
  {
   "cell_type": "code",
   "execution_count": 42,
   "id": "460c447e-9f94-433a-8f18-180af8a131e2",
   "metadata": {},
   "outputs": [
    {
     "data": {
      "text/plain": [
       "\"SELF is used in oop's ,to bind a particular methods,variables or elements \\n   to a particular class to which it belongs\""
      ]
     },
     "execution_count": 42,
     "metadata": {},
     "output_type": "execute_result"
    }
   ],
   "source": [
    "\"\"\"QTS .4\"\"\"\n",
    "\n",
    "\"\"\"SELF is used in oop's ,to bind a particular methods,variables or elements \n",
    "   to a particular class to which it belongs\"\"\" "
   ]
  },
  {
   "cell_type": "code",
   "execution_count": 11,
   "id": "1fe4a3e2-2e86-4ba5-a770-667e87dbe93a",
   "metadata": {},
   "outputs": [
    {
     "name": "stdout",
     "output_type": "stream",
     "text": [
      "hii\n"
     ]
    }
   ],
   "source": [
    "\"\"\"QTS. 5\"\"\"\n",
    "\n",
    "\"\"\"inheritance refers to property of inheriting property of parent classs to the another class\"\"\"\n",
    "\n",
    "\"\"\"single inheritance\"\"\"\n",
    "class test:\n",
    "    def test1(self):\n",
    "        print(\"hii\")\n",
    "    \n",
    "class test2(test):\n",
    "    pass \n",
    "\n",
    "check=test2()\n",
    "\n",
    "check.test1()"
   ]
  },
  {
   "cell_type": "code",
   "execution_count": 12,
   "id": "d0fc68f3-fcf3-4408-a138-a81789fb0535",
   "metadata": {},
   "outputs": [
    {
     "name": "stdout",
     "output_type": "stream",
     "text": [
      "hello\n",
      "how are you ?\n"
     ]
    }
   ],
   "source": [
    "\"\"\"multilevel inheritance\"\"\"\n",
    "class test1:\n",
    "    def check1(self):\n",
    "        print(\"hello\")\n",
    "        \n",
    "class test2(test1):\n",
    "    def check2(self):\n",
    "        print(\"how are you ?\")\n",
    "        \n",
    "class test3(test2):\n",
    "    pass\n",
    "\n",
    "check3=test3()\n",
    "check3.check1()\n",
    "check3.check2()\n",
    "        "
   ]
  },
  {
   "cell_type": "code",
   "execution_count": 13,
   "id": "b7131ef2-094c-4730-9a7b-600d04360d02",
   "metadata": {},
   "outputs": [
    {
     "name": "stdout",
     "output_type": "stream",
     "text": [
      "hello\n",
      "how are you ?\n"
     ]
    }
   ],
   "source": [
    "\"\"\"multiple inheritance\"\"\"\n",
    "\n",
    "class test1:\n",
    "    def ch1(self):\n",
    "        print(\"hello\")\n",
    "        \n",
    "class test2:\n",
    "    def ch2(self):\n",
    "        print(\"how are you ?\")\n",
    "        \n",
    "class test3(test1,test2):\n",
    "    pass\n",
    "\n",
    "ch3=test3()\n",
    "ch3.ch1()\n",
    "ch3.ch2()"
   ]
  },
  {
   "cell_type": "code",
   "execution_count": null,
   "id": "c4b42e9c-0964-4e9e-90c8-b7005733e1e5",
   "metadata": {},
   "outputs": [],
   "source": []
  }
 ],
 "metadata": {
  "kernelspec": {
   "display_name": "Python 3 (ipykernel)",
   "language": "python",
   "name": "python3"
  },
  "language_info": {
   "codemirror_mode": {
    "name": "ipython",
    "version": 3
   },
   "file_extension": ".py",
   "mimetype": "text/x-python",
   "name": "python",
   "nbconvert_exporter": "python",
   "pygments_lexer": "ipython3",
   "version": "3.10.8"
  }
 },
 "nbformat": 4,
 "nbformat_minor": 5
}
